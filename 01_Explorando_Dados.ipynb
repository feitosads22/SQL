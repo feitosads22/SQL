{
  "nbformat": 4,
  "nbformat_minor": 0,
  "metadata": {
    "colab": {
      "name": "01 - Explorando Dados.ipynb",
      "provenance": [],
      "collapsed_sections": [
        "cDedZM3GUzuq",
        "EEXDcGBQbAlu",
        "e41movXLdP-s",
        "E5bJH_0wdzd_",
        "TAMd8P6bet-9"
      ]
    },
    "kernelspec": {
      "name": "python3",
      "display_name": "Python 3"
    },
    "language_info": {
      "name": "python"
    }
  },
  "cells": [
    {
      "cell_type": "code",
      "execution_count": null,
      "metadata": {
        "id": "Hi7q-M3JQHQ8"
      },
      "outputs": [],
      "source": [
        ""
      ]
    },
    {
      "cell_type": "markdown",
      "source": [
        "# *Configurando Kernel Spark*"
      ],
      "metadata": {
        "id": "cDedZM3GUzuq"
      }
    },
    {
      "cell_type": "code",
      "source": [
        "from google.colab import drive\n",
        "drive.mount('/content/drive')"
      ],
      "metadata": {
        "id": "jf_JIzuqSmg-"
      },
      "execution_count": null,
      "outputs": []
    },
    {
      "cell_type": "code",
      "source": [
        "# instalar as dependências\n",
        "!apt-get install openjdk-8-jdk-headless -qq > /dev/null\n",
        "!wget -q https://archive.apache.org/dist/spark/spark-2.4.4/spark-2.4.4-bin-hadoop2.7.tgz\n",
        "!tar xf spark-2.4.4-bin-hadoop2.7.tgz\n",
        "!pip install -q findspark"
      ],
      "metadata": {
        "id": "pnmwht1TUL-b"
      },
      "execution_count": null,
      "outputs": []
    },
    {
      "cell_type": "code",
      "source": [
        "# configurar as variáveis de ambiente\n",
        "import os\n",
        "os.environ[\"JAVA_HOME\"] = \"/usr/lib/jvm/java-8-openjdk-amd64\"\n",
        "os.environ[\"SPARK_HOME\"] = \"/content/spark-2.4.4-bin-hadoop2.7\"\n",
        " \n",
        "# tornar o pyspark \"importável\"\n",
        "import findspark\n",
        "findspark.init('spark-2.4.4-bin-hadoop2.7')"
      ],
      "metadata": {
        "id": "1_4xqAJ3UoTb"
      },
      "execution_count": null,
      "outputs": []
    },
    {
      "cell_type": "code",
      "source": [
        "from pyspark.sql import SparkSession\n",
        " \n",
        "spark = SparkSession.builder\\\n",
        "        .master(\"local\")\\\n",
        "        .appName(\"Colab\")\\\n",
        "        .config('spark.ui.port', '4050')\\\n",
        "        .getOrCreate()"
      ],
      "metadata": {
        "id": "dvkKljVJWDV3"
      },
      "execution_count": null,
      "outputs": []
    },
    {
      "cell_type": "markdown",
      "source": [
        "# *Explorando Dados*"
      ],
      "metadata": {
        "id": "v6mTo43mWak_"
      }
    },
    {
      "cell_type": "markdown",
      "source": [
        "### *Lendo Publico de Modelagem*"
      ],
      "metadata": {
        "id": "EEXDcGBQbAlu"
      }
    },
    {
      "cell_type": "code",
      "source": [
        "\n",
        "# carregar dados do Público de Modelagem\n",
        "app_train = spark.read.csv(\"/content/drive/MyDrive/SQL/InputData/application_train.csv\", inferSchema=True, header=True)\n",
        " \n",
        "app_train.registerTempTable('app_train')\n",
        " \n",
        "app_train.count()"
      ],
      "metadata": {
        "colab": {
          "base_uri": "https://localhost:8080/",
          "height": 0
        },
        "id": "aaXn3lypbLnY",
        "outputId": "1bb02b02-b9d0-45ee-b063-d7200ec2a917"
      },
      "execution_count": 5,
      "outputs": [
        {
          "output_type": "execute_result",
          "data": {
            "text/plain": [
              "307511"
            ]
          },
          "metadata": {},
          "execution_count": 5
        }
      ]
    },
    {
      "cell_type": "markdown",
      "source": [
        "### *Lendo A Tabela Transacional Bureau*"
      ],
      "metadata": {
        "id": "aFpUpVtNbn0-"
      }
    },
    {
      "cell_type": "code",
      "source": [
        "# carregar dados da tabela Bureau\n",
        "bureau = spark.read.csv(\"/content/drive/MyDrive/SQL/InputData/bureau.csv\", inferSchema=True, header=True)\n",
        " \n",
        "bureau.registerTempTable('bureau')\n",
        " \n",
        "bureau.count()"
      ],
      "metadata": {
        "colab": {
          "base_uri": "https://localhost:8080/",
          "height": 0
        },
        "id": "QWegtcBGcU3V",
        "outputId": "cbbdc60e-b710-4461-e3e4-91fbcaa6bf98"
      },
      "execution_count": 6,
      "outputs": [
        {
          "output_type": "execute_result",
          "data": {
            "text/plain": [
              "1716428"
            ]
          },
          "metadata": {},
          "execution_count": 6
        }
      ]
    },
    {
      "cell_type": "markdown",
      "source": [
        "# Verificando Variaveis da Tabela *Principal*"
      ],
      "metadata": {
        "id": "e41movXLdP-s"
      }
    },
    {
      "cell_type": "code",
      "source": [
        "app_train.printSchema()"
      ],
      "metadata": {
        "colab": {
          "base_uri": "https://localhost:8080/",
          "height": 0
        },
        "id": "UizyHSmTdaCV",
        "outputId": "a3733f88-dfa1-4278-e1f3-f1f9fa7d582f"
      },
      "execution_count": 7,
      "outputs": [
        {
          "output_type": "stream",
          "name": "stdout",
          "text": [
            "root\n",
            " |-- SK_ID_CURR: integer (nullable = true)\n",
            " |-- TARGET: integer (nullable = true)\n",
            " |-- NAME_CONTRACT_TYPE: string (nullable = true)\n",
            " |-- CODE_GENDER: string (nullable = true)\n",
            " |-- FLAG_OWN_CAR: string (nullable = true)\n",
            " |-- FLAG_OWN_REALTY: string (nullable = true)\n",
            " |-- CNT_CHILDREN: integer (nullable = true)\n",
            " |-- AMT_INCOME_TOTAL: double (nullable = true)\n",
            " |-- AMT_CREDIT: double (nullable = true)\n",
            " |-- AMT_ANNUITY: double (nullable = true)\n",
            " |-- AMT_GOODS_PRICE: double (nullable = true)\n",
            " |-- NAME_TYPE_SUITE: string (nullable = true)\n",
            " |-- NAME_INCOME_TYPE: string (nullable = true)\n",
            " |-- NAME_EDUCATION_TYPE: string (nullable = true)\n",
            " |-- NAME_FAMILY_STATUS: string (nullable = true)\n",
            " |-- NAME_HOUSING_TYPE: string (nullable = true)\n",
            " |-- REGION_POPULATION_RELATIVE: double (nullable = true)\n",
            " |-- DAYS_BIRTH: integer (nullable = true)\n",
            " |-- DAYS_EMPLOYED: integer (nullable = true)\n",
            " |-- DAYS_REGISTRATION: double (nullable = true)\n",
            " |-- DAYS_ID_PUBLISH: integer (nullable = true)\n",
            " |-- OWN_CAR_AGE: double (nullable = true)\n",
            " |-- FLAG_MOBIL: integer (nullable = true)\n",
            " |-- FLAG_EMP_PHONE: integer (nullable = true)\n",
            " |-- FLAG_WORK_PHONE: integer (nullable = true)\n",
            " |-- FLAG_CONT_MOBILE: integer (nullable = true)\n",
            " |-- FLAG_PHONE: integer (nullable = true)\n",
            " |-- FLAG_EMAIL: integer (nullable = true)\n",
            " |-- OCCUPATION_TYPE: string (nullable = true)\n",
            " |-- CNT_FAM_MEMBERS: double (nullable = true)\n",
            " |-- REGION_RATING_CLIENT: integer (nullable = true)\n",
            " |-- REGION_RATING_CLIENT_W_CITY: integer (nullable = true)\n",
            " |-- WEEKDAY_APPR_PROCESS_START: string (nullable = true)\n",
            " |-- HOUR_APPR_PROCESS_START: integer (nullable = true)\n",
            " |-- REG_REGION_NOT_LIVE_REGION: integer (nullable = true)\n",
            " |-- REG_REGION_NOT_WORK_REGION: integer (nullable = true)\n",
            " |-- LIVE_REGION_NOT_WORK_REGION: integer (nullable = true)\n",
            " |-- REG_CITY_NOT_LIVE_CITY: integer (nullable = true)\n",
            " |-- REG_CITY_NOT_WORK_CITY: integer (nullable = true)\n",
            " |-- LIVE_CITY_NOT_WORK_CITY: integer (nullable = true)\n",
            " |-- ORGANIZATION_TYPE: string (nullable = true)\n",
            " |-- EXT_SOURCE_1: double (nullable = true)\n",
            " |-- EXT_SOURCE_2: double (nullable = true)\n",
            " |-- EXT_SOURCE_3: double (nullable = true)\n",
            " |-- APARTMENTS_AVG: double (nullable = true)\n",
            " |-- BASEMENTAREA_AVG: double (nullable = true)\n",
            " |-- YEARS_BEGINEXPLUATATION_AVG: double (nullable = true)\n",
            " |-- YEARS_BUILD_AVG: double (nullable = true)\n",
            " |-- COMMONAREA_AVG: double (nullable = true)\n",
            " |-- ELEVATORS_AVG: double (nullable = true)\n",
            " |-- ENTRANCES_AVG: double (nullable = true)\n",
            " |-- FLOORSMAX_AVG: double (nullable = true)\n",
            " |-- FLOORSMIN_AVG: double (nullable = true)\n",
            " |-- LANDAREA_AVG: double (nullable = true)\n",
            " |-- LIVINGAPARTMENTS_AVG: double (nullable = true)\n",
            " |-- LIVINGAREA_AVG: double (nullable = true)\n",
            " |-- NONLIVINGAPARTMENTS_AVG: double (nullable = true)\n",
            " |-- NONLIVINGAREA_AVG: double (nullable = true)\n",
            " |-- APARTMENTS_MODE: double (nullable = true)\n",
            " |-- BASEMENTAREA_MODE: double (nullable = true)\n",
            " |-- YEARS_BEGINEXPLUATATION_MODE: double (nullable = true)\n",
            " |-- YEARS_BUILD_MODE: double (nullable = true)\n",
            " |-- COMMONAREA_MODE: double (nullable = true)\n",
            " |-- ELEVATORS_MODE: double (nullable = true)\n",
            " |-- ENTRANCES_MODE: double (nullable = true)\n",
            " |-- FLOORSMAX_MODE: double (nullable = true)\n",
            " |-- FLOORSMIN_MODE: double (nullable = true)\n",
            " |-- LANDAREA_MODE: double (nullable = true)\n",
            " |-- LIVINGAPARTMENTS_MODE: double (nullable = true)\n",
            " |-- LIVINGAREA_MODE: double (nullable = true)\n",
            " |-- NONLIVINGAPARTMENTS_MODE: double (nullable = true)\n",
            " |-- NONLIVINGAREA_MODE: double (nullable = true)\n",
            " |-- APARTMENTS_MEDI: double (nullable = true)\n",
            " |-- BASEMENTAREA_MEDI: double (nullable = true)\n",
            " |-- YEARS_BEGINEXPLUATATION_MEDI: double (nullable = true)\n",
            " |-- YEARS_BUILD_MEDI: double (nullable = true)\n",
            " |-- COMMONAREA_MEDI: double (nullable = true)\n",
            " |-- ELEVATORS_MEDI: double (nullable = true)\n",
            " |-- ENTRANCES_MEDI: double (nullable = true)\n",
            " |-- FLOORSMAX_MEDI: double (nullable = true)\n",
            " |-- FLOORSMIN_MEDI: double (nullable = true)\n",
            " |-- LANDAREA_MEDI: double (nullable = true)\n",
            " |-- LIVINGAPARTMENTS_MEDI: double (nullable = true)\n",
            " |-- LIVINGAREA_MEDI: double (nullable = true)\n",
            " |-- NONLIVINGAPARTMENTS_MEDI: double (nullable = true)\n",
            " |-- NONLIVINGAREA_MEDI: double (nullable = true)\n",
            " |-- FONDKAPREMONT_MODE: string (nullable = true)\n",
            " |-- HOUSETYPE_MODE: string (nullable = true)\n",
            " |-- TOTALAREA_MODE: double (nullable = true)\n",
            " |-- WALLSMATERIAL_MODE: string (nullable = true)\n",
            " |-- EMERGENCYSTATE_MODE: string (nullable = true)\n",
            " |-- OBS_30_CNT_SOCIAL_CIRCLE: double (nullable = true)\n",
            " |-- DEF_30_CNT_SOCIAL_CIRCLE: double (nullable = true)\n",
            " |-- OBS_60_CNT_SOCIAL_CIRCLE: double (nullable = true)\n",
            " |-- DEF_60_CNT_SOCIAL_CIRCLE: double (nullable = true)\n",
            " |-- DAYS_LAST_PHONE_CHANGE: double (nullable = true)\n",
            " |-- FLAG_DOCUMENT_2: integer (nullable = true)\n",
            " |-- FLAG_DOCUMENT_3: integer (nullable = true)\n",
            " |-- FLAG_DOCUMENT_4: integer (nullable = true)\n",
            " |-- FLAG_DOCUMENT_5: integer (nullable = true)\n",
            " |-- FLAG_DOCUMENT_6: integer (nullable = true)\n",
            " |-- FLAG_DOCUMENT_7: integer (nullable = true)\n",
            " |-- FLAG_DOCUMENT_8: integer (nullable = true)\n",
            " |-- FLAG_DOCUMENT_9: integer (nullable = true)\n",
            " |-- FLAG_DOCUMENT_10: integer (nullable = true)\n",
            " |-- FLAG_DOCUMENT_11: integer (nullable = true)\n",
            " |-- FLAG_DOCUMENT_12: integer (nullable = true)\n",
            " |-- FLAG_DOCUMENT_13: integer (nullable = true)\n",
            " |-- FLAG_DOCUMENT_14: integer (nullable = true)\n",
            " |-- FLAG_DOCUMENT_15: integer (nullable = true)\n",
            " |-- FLAG_DOCUMENT_16: integer (nullable = true)\n",
            " |-- FLAG_DOCUMENT_17: integer (nullable = true)\n",
            " |-- FLAG_DOCUMENT_18: integer (nullable = true)\n",
            " |-- FLAG_DOCUMENT_19: integer (nullable = true)\n",
            " |-- FLAG_DOCUMENT_20: integer (nullable = true)\n",
            " |-- FLAG_DOCUMENT_21: integer (nullable = true)\n",
            " |-- AMT_REQ_CREDIT_BUREAU_HOUR: double (nullable = true)\n",
            " |-- AMT_REQ_CREDIT_BUREAU_DAY: double (nullable = true)\n",
            " |-- AMT_REQ_CREDIT_BUREAU_WEEK: double (nullable = true)\n",
            " |-- AMT_REQ_CREDIT_BUREAU_MON: double (nullable = true)\n",
            " |-- AMT_REQ_CREDIT_BUREAU_QRT: double (nullable = true)\n",
            " |-- AMT_REQ_CREDIT_BUREAU_YEAR: double (nullable = true)\n",
            "\n"
          ]
        }
      ]
    },
    {
      "cell_type": "markdown",
      "source": [
        "# Listando Variaveis Tipo *String*"
      ],
      "metadata": {
        "id": "E5bJH_0wdzd_"
      }
    },
    {
      "cell_type": "code",
      "source": [
        " string_list = [item[0] for item in app_train.dtypes if item[1].startswith('string')]\n",
        " string_list\n"
      ],
      "metadata": {
        "colab": {
          "base_uri": "https://localhost:8080/",
          "height": 0
        },
        "id": "7vuQFmzbd8nE",
        "outputId": "d81b2f09-a293-4e43-f19e-d69db2863423"
      },
      "execution_count": 8,
      "outputs": [
        {
          "output_type": "execute_result",
          "data": {
            "text/plain": [
              "['NAME_CONTRACT_TYPE',\n",
              " 'CODE_GENDER',\n",
              " 'FLAG_OWN_CAR',\n",
              " 'FLAG_OWN_REALTY',\n",
              " 'NAME_TYPE_SUITE',\n",
              " 'NAME_INCOME_TYPE',\n",
              " 'NAME_EDUCATION_TYPE',\n",
              " 'NAME_FAMILY_STATUS',\n",
              " 'NAME_HOUSING_TYPE',\n",
              " 'OCCUPATION_TYPE',\n",
              " 'WEEKDAY_APPR_PROCESS_START',\n",
              " 'ORGANIZATION_TYPE',\n",
              " 'FONDKAPREMONT_MODE',\n",
              " 'HOUSETYPE_MODE',\n",
              " 'WALLSMATERIAL_MODE',\n",
              " 'EMERGENCYSTATE_MODE']"
            ]
          },
          "metadata": {},
          "execution_count": 8
        }
      ]
    },
    {
      "cell_type": "markdown",
      "source": [
        "# Calculando A Volumetria de Inadimplencia"
      ],
      "metadata": {
        "id": "TAMd8P6bet-9"
      }
    },
    {
      "cell_type": "code",
      "source": [
        "spark.sql(\"\"\"\n",
        "            select \n",
        "              NAME_CONTRACT_TYPE,\n",
        "              round(100*avg(TARGET),2) as AVG_TARGET,\n",
        "              count(*) as Volume\n",
        " \n",
        "            from \n",
        "              app_train\n",
        "            group by \n",
        "              NAME_CONTRACT_TYPE\n",
        "            order by \n",
        "              AVG_TARGET desc\n",
        "\"\"\").show()"
      ],
      "metadata": {
        "colab": {
          "base_uri": "https://localhost:8080/",
          "height": 0
        },
        "id": "cRTE21Nve0or",
        "outputId": "32737d92-b1c6-43c5-8deb-23e1871c1444"
      },
      "execution_count": 9,
      "outputs": [
        {
          "output_type": "stream",
          "name": "stdout",
          "text": [
            "+------------------+----------+------+\n",
            "|NAME_CONTRACT_TYPE|AVG_TARGET|Volume|\n",
            "+------------------+----------+------+\n",
            "|        Cash loans|      8.35|278232|\n",
            "|   Revolving loans|      5.48| 29279|\n",
            "+------------------+----------+------+\n",
            "\n"
          ]
        }
      ]
    },
    {
      "cell_type": "markdown",
      "source": [
        "Neste caso acima, observamos que quem faz empréstimo do tipo rotativo (Revolving loans) possui menor taxa de evento do que quem faz empréstimo do tipo dinheiro (Cash loans). Mas também o volume para essas pessoas é muito menor"
      ],
      "metadata": {
        "id": "loj-vdrssas9"
      }
    },
    {
      "cell_type": "markdown",
      "source": [
        "# *Inadimplência Por Profissão*"
      ],
      "metadata": {
        "id": "hiL3Xc3Qtkre"
      }
    },
    {
      "cell_type": "code",
      "source": [
        "spark.sql(\"\"\"\n",
        "            select \n",
        "              OCCUPATION_TYPE,\n",
        "              round(100*avg(TARGET),2) as AVG_TARGET,\n",
        "              count(*) as Volume\n",
        " \n",
        "            from \n",
        "              app_train\n",
        "            group by \n",
        "              OCCUPATION_TYPE\n",
        "            order by \n",
        "              AVG_TARGET desc\n",
        "\"\"\").show()"
      ],
      "metadata": {
        "colab": {
          "base_uri": "https://localhost:8080/",
          "height": 0
        },
        "id": "tcx7ZLgot2vN",
        "outputId": "934724f0-dc90-4104-aff5-fe41b0e96003"
      },
      "execution_count": 10,
      "outputs": [
        {
          "output_type": "stream",
          "name": "stdout",
          "text": [
            "+--------------------+----------+------+\n",
            "|     OCCUPATION_TYPE|AVG_TARGET|Volume|\n",
            "+--------------------+----------+------+\n",
            "|  Low-skill Laborers|     17.15|  2093|\n",
            "|             Drivers|     11.33| 18603|\n",
            "|Waiters/barmen staff|     11.28|  1348|\n",
            "|      Security staff|     10.74|  6721|\n",
            "|            Laborers|     10.58| 55186|\n",
            "|       Cooking staff|     10.44|  5946|\n",
            "|         Sales staff|      9.63| 32102|\n",
            "|      Cleaning staff|      9.61|  4653|\n",
            "|       Realty agents|      7.86|   751|\n",
            "|         Secretaries|      7.05|  1305|\n",
            "|      Medicine staff|       6.7|  8537|\n",
            "|Private service s...|       6.6|  2652|\n",
            "|                null|      6.51| 96391|\n",
            "|            IT staff|      6.46|   526|\n",
            "|            HR staff|      6.39|   563|\n",
            "|          Core staff|       6.3| 27570|\n",
            "|            Managers|      6.21| 21371|\n",
            "|High skill tech s...|      6.16| 11380|\n",
            "|         Accountants|      4.83|  9813|\n",
            "+--------------------+----------+------+\n",
            "\n"
          ]
        }
      ]
    },
    {
      "cell_type": "markdown",
      "source": [
        "Neste caso, observamos que os trabalhadores com menor skill (habilidades técnicas) são os mais inadimplentes neste cenário (apresentam a maior taxa de evento). \n"
      ],
      "metadata": {
        "id": "McpBkcItuRIk"
      }
    },
    {
      "cell_type": "code",
      "source": [
        ""
      ],
      "metadata": {
        "id": "mHAEwIMCwPR7"
      },
      "execution_count": null,
      "outputs": []
    },
    {
      "cell_type": "markdown",
      "source": [
        "# *Verificando Variaveis da Tabela Bureau*"
      ],
      "metadata": {
        "id": "uliu3kQww6C8"
      }
    },
    {
      "cell_type": "code",
      "source": [
        "bureau.show()"
      ],
      "metadata": {
        "colab": {
          "base_uri": "https://localhost:8080/",
          "height": 0
        },
        "id": "0n1mF6NIw_Lj",
        "outputId": "9367d940-3912-4577-c2c7-7bfa41627825"
      },
      "execution_count": 11,
      "outputs": [
        {
          "output_type": "stream",
          "name": "stdout",
          "text": [
            "+----------+------------+-------------+---------------+-----------+------------------+-------------------+-----------------+----------------------+------------------+--------------+-------------------+--------------------+----------------------+---------------+------------------+-----------+\n",
            "|SK_ID_CURR|SK_ID_BUREAU|CREDIT_ACTIVE|CREDIT_CURRENCY|DAYS_CREDIT|CREDIT_DAY_OVERDUE|DAYS_CREDIT_ENDDATE|DAYS_ENDDATE_FACT|AMT_CREDIT_MAX_OVERDUE|CNT_CREDIT_PROLONG|AMT_CREDIT_SUM|AMT_CREDIT_SUM_DEBT|AMT_CREDIT_SUM_LIMIT|AMT_CREDIT_SUM_OVERDUE|    CREDIT_TYPE|DAYS_CREDIT_UPDATE|AMT_ANNUITY|\n",
            "+----------+------------+-------------+---------------+-----------+------------------+-------------------+-----------------+----------------------+------------------+--------------+-------------------+--------------------+----------------------+---------------+------------------+-----------+\n",
            "|    215354|     5714462|       Closed|     currency 1|       -497|                 0|             -153.0|           -153.0|                  null|                 0|       91323.0|                0.0|                null|                   0.0|Consumer credit|              -131|       null|\n",
            "|    215354|     5714463|       Active|     currency 1|       -208|                 0|             1075.0|             null|                  null|                 0|      225000.0|           171342.0|                null|                   0.0|    Credit card|               -20|       null|\n",
            "|    215354|     5714464|       Active|     currency 1|       -203|                 0|              528.0|             null|                  null|                 0|      464323.5|               null|                null|                   0.0|Consumer credit|               -16|       null|\n",
            "|    215354|     5714465|       Active|     currency 1|       -203|                 0|               null|             null|                  null|                 0|       90000.0|               null|                null|                   0.0|    Credit card|               -16|       null|\n",
            "|    215354|     5714466|       Active|     currency 1|       -629|                 0|             1197.0|             null|               77674.5|                 0|     2700000.0|               null|                null|                   0.0|Consumer credit|               -21|       null|\n",
            "|    215354|     5714467|       Active|     currency 1|       -273|                 0|            27460.0|             null|                   0.0|                 0|      180000.0|           71017.38|           108982.62|                   0.0|    Credit card|               -31|       null|\n",
            "|    215354|     5714468|       Active|     currency 1|        -43|                 0|               79.0|             null|                   0.0|                 0|       42103.8|            42103.8|                 0.0|                   0.0|Consumer credit|               -22|       null|\n",
            "|    162297|     5714469|       Closed|     currency 1|      -1896|                 0|            -1684.0|          -1710.0|               14985.0|                 0|      76878.45|                0.0|                 0.0|                   0.0|Consumer credit|             -1710|       null|\n",
            "|    162297|     5714470|       Closed|     currency 1|      -1146|                 0|             -811.0|           -840.0|                   0.0|                 0|      103007.7|                0.0|                 0.0|                   0.0|Consumer credit|              -840|       null|\n",
            "|    162297|     5714471|       Active|     currency 1|      -1146|                 0|             -484.0|             null|                   0.0|                 0|        4500.0|                0.0|                 0.0|                   0.0|    Credit card|              -690|       null|\n",
            "|    162297|     5714472|       Active|     currency 1|      -1146|                 0|             -180.0|             null|                   0.0|                 0|      337500.0|                0.0|                 0.0|                   0.0|    Credit card|              -690|       null|\n",
            "|    162297|     5714473|       Closed|     currency 1|      -2456|                 0|             -629.0|           -825.0|                  null|                 0|      675000.0|                0.0|                 0.0|                   0.0|Consumer credit|              -706|       null|\n",
            "|    162297|     5714474|       Active|     currency 1|       -277|                 0|             5261.0|             null|                   0.0|                 0|     7033500.0|               null|                null|                   0.0|       Mortgage|               -31|       null|\n",
            "|    402440|     5714475|       Active|     currency 1|        -96|                 0|              269.0|             null|                   0.0|                 0|       89910.0|            76905.0|                 0.0|                   0.0|Consumer credit|               -22|       null|\n",
            "|    238881|     5714482|       Closed|     currency 1|       -318|                 0|             -187.0|           -187.0|                  null|                 0|           0.0|                0.0|                 0.0|                   0.0|    Credit card|              -185|       null|\n",
            "|    238881|     5714484|       Closed|     currency 1|      -2911|                 0|            -2607.0|          -2604.0|                  null|                 0|       48555.0|               null|                null|                   0.0|Consumer credit|             -2601|       null|\n",
            "|    238881|     5714485|       Closed|     currency 1|      -2148|                 0|            -1595.0|           -987.0|                  null|                 0|      135000.0|               null|                null|                   0.0|Consumer credit|              -984|       null|\n",
            "|    238881|     5714486|       Active|     currency 1|       -381|                 0|               null|             null|                  null|                 0|      450000.0|           520920.0|                null|                   0.0|Consumer credit|                -4|       null|\n",
            "|    238881|     5714487|       Active|     currency 1|        -95|                 0|             1720.0|             null|                  null|                 0|       67500.0|             8131.5|                null|                   0.0|    Credit card|                -7|       null|\n",
            "|    238881|     5714488|       Closed|     currency 1|       -444|                 0|              -77.0|            -77.0|                   0.0|                 0|     107184.06|                0.0|                 0.0|                   0.0|Consumer credit|               -71|       null|\n",
            "+----------+------------+-------------+---------------+-----------+------------------+-------------------+-----------------+----------------------+------------------+--------------+-------------------+--------------------+----------------------+---------------+------------------+-----------+\n",
            "only showing top 20 rows\n",
            "\n"
          ]
        }
      ]
    },
    {
      "cell_type": "code",
      "source": [
        "bureau.printSchema()"
      ],
      "metadata": {
        "colab": {
          "base_uri": "https://localhost:8080/",
          "height": 0
        },
        "id": "TVX7Fah_xK4b",
        "outputId": "ece40834-d1dd-482b-9376-8d65f43d3c76"
      },
      "execution_count": 12,
      "outputs": [
        {
          "output_type": "stream",
          "name": "stdout",
          "text": [
            "root\n",
            " |-- SK_ID_CURR: integer (nullable = true)\n",
            " |-- SK_ID_BUREAU: integer (nullable = true)\n",
            " |-- CREDIT_ACTIVE: string (nullable = true)\n",
            " |-- CREDIT_CURRENCY: string (nullable = true)\n",
            " |-- DAYS_CREDIT: integer (nullable = true)\n",
            " |-- CREDIT_DAY_OVERDUE: integer (nullable = true)\n",
            " |-- DAYS_CREDIT_ENDDATE: double (nullable = true)\n",
            " |-- DAYS_ENDDATE_FACT: double (nullable = true)\n",
            " |-- AMT_CREDIT_MAX_OVERDUE: double (nullable = true)\n",
            " |-- CNT_CREDIT_PROLONG: integer (nullable = true)\n",
            " |-- AMT_CREDIT_SUM: double (nullable = true)\n",
            " |-- AMT_CREDIT_SUM_DEBT: double (nullable = true)\n",
            " |-- AMT_CREDIT_SUM_LIMIT: double (nullable = true)\n",
            " |-- AMT_CREDIT_SUM_OVERDUE: double (nullable = true)\n",
            " |-- CREDIT_TYPE: string (nullable = true)\n",
            " |-- DAYS_CREDIT_UPDATE: integer (nullable = true)\n",
            " |-- AMT_ANNUITY: double (nullable = true)\n",
            "\n"
          ]
        }
      ]
    },
    {
      "cell_type": "markdown",
      "source": [
        "\n",
        "Vamos selecionar um único indivíduo da tabela principal, filtrar este indivíduo na tabela bureau e verificar seu comportamento transacional ID:100002\n"
      ],
      "metadata": {
        "id": "WMwK0YptxdOr"
      }
    },
    {
      "cell_type": "code",
      "source": [
        "spark.sql(\"\"\"\n",
        "              select\n",
        "                *\n",
        "              from\n",
        "                bureau\n",
        "              where\n",
        "              SK_ID_CURR = 100002\n",
        "\"\"\").show()\n",
        "#Este comportamento é chamado de granularidade do dado. \n",
        "#Este dado da tabela bureau tem granularidade diferente da tabela principal.\n",
        "#Veja que uma linha da tabela principal, para este ID, gera 8 linhas na tabela Bureau, que representam as transações que o indivíduo realizou. \n"
      ],
      "metadata": {
        "colab": {
          "base_uri": "https://localhost:8080/"
        },
        "id": "6AQHo5CwxiaT",
        "outputId": "262b3b66-c722-4340-a400-f7cf0c3e02ef"
      },
      "execution_count": 13,
      "outputs": [
        {
          "output_type": "stream",
          "name": "stdout",
          "text": [
            "+----------+------------+-------------+---------------+-----------+------------------+-------------------+-----------------+----------------------+------------------+--------------+-------------------+--------------------+----------------------+---------------+------------------+-----------+\n",
            "|SK_ID_CURR|SK_ID_BUREAU|CREDIT_ACTIVE|CREDIT_CURRENCY|DAYS_CREDIT|CREDIT_DAY_OVERDUE|DAYS_CREDIT_ENDDATE|DAYS_ENDDATE_FACT|AMT_CREDIT_MAX_OVERDUE|CNT_CREDIT_PROLONG|AMT_CREDIT_SUM|AMT_CREDIT_SUM_DEBT|AMT_CREDIT_SUM_LIMIT|AMT_CREDIT_SUM_OVERDUE|    CREDIT_TYPE|DAYS_CREDIT_UPDATE|AMT_ANNUITY|\n",
            "+----------+------------+-------------+---------------+-----------+------------------+-------------------+-----------------+----------------------+------------------+--------------+-------------------+--------------------+----------------------+---------------+------------------+-----------+\n",
            "|    100002|     6158904|       Closed|     currency 1|      -1125|                 0|            -1038.0|          -1038.0|                  null|                 0|       40761.0|               null|                null|                   0.0|    Credit card|             -1038|        0.0|\n",
            "|    100002|     6158905|       Closed|     currency 1|       -476|                 0|               null|            -48.0|                  null|                 0|           0.0|                0.0|                null|                   0.0|    Credit card|               -47|       null|\n",
            "|    100002|     6158906|       Closed|     currency 1|      -1437|                 0|            -1072.0|          -1185.0|                   0.0|                 0|      135000.0|                0.0|                 0.0|                   0.0|Consumer credit|             -1185|        0.0|\n",
            "|    100002|     6158907|       Closed|     currency 1|      -1121|                 0|             -911.0|           -911.0|                3321.0|                 0|       19071.0|               null|                null|                   0.0|Consumer credit|              -906|        0.0|\n",
            "|    100002|     6158908|       Closed|     currency 1|       -645|                 0|               85.0|            -36.0|              5043.645|                 0|      120735.0|                0.0|                 0.0|                   0.0|Consumer credit|               -34|        0.0|\n",
            "|    100002|     6158909|       Active|     currency 1|       -103|                 0|               null|             null|                  40.5|                 0|     31988.565|                0.0|           31988.565|                   0.0|    Credit card|               -24|        0.0|\n",
            "|    100002|     6158903|       Active|     currency 1|      -1042|                 0|              780.0|             null|                  null|                 0|      450000.0|           245781.0|                 0.0|                   0.0|Consumer credit|                -7|        0.0|\n",
            "|    100002|     6113835|       Closed|     currency 1|      -1043|                 0|               62.0|           -967.0|                   0.0|                 0|       67500.0|               null|                null|                   0.0|    Credit card|              -758|        0.0|\n",
            "+----------+------------+-------------+---------------+-----------+------------------+-------------------+-----------------+----------------------+------------------+--------------+-------------------+--------------------+----------------------+---------------+------------------+-----------+\n",
            "\n"
          ]
        }
      ]
    },
    {
      "cell_type": "code",
      "source": [
        ""
      ],
      "metadata": {
        "id": "10zKgAzT0ATS"
      },
      "execution_count": null,
      "outputs": []
    },
    {
      "cell_type": "markdown",
      "source": [
        "## Volumetria do Credito Ativo"
      ],
      "metadata": {
        "id": "LnvSL6I50A1S"
      }
    },
    {
      "cell_type": "code",
      "source": [
        "spark.sql(\"\"\"\n",
        "            select \n",
        "              CREDIT_ACTIVE,\n",
        "              count(*) as Volume\n",
        " \n",
        "            from \n",
        "              bureau\n",
        "            group by \n",
        "              CREDIT_ACTIVE\n",
        "            order by \n",
        "             volume desc\n",
        "\"\"\").show()\n",
        "\n",
        "\"\"\"Neste caso acima, note que “Bad debt” apresenta volumetria baixa demais,\n",
        " pensando na volumetria da tabela que é da ordem de milhões de linhas,\n",
        "  este domínio não tem representatividade nenhuma sobre o negócio\n",
        "  \"\"\""
      ],
      "metadata": {
        "colab": {
          "base_uri": "https://localhost:8080/",
          "height": 209
        },
        "id": "RNN5ryH40Oo6",
        "outputId": "abf1c878-5f02-4b12-afeb-09c9c075b230"
      },
      "execution_count": 17,
      "outputs": [
        {
          "output_type": "stream",
          "name": "stdout",
          "text": [
            "+-------------+-------+\n",
            "|CREDIT_ACTIVE| Volume|\n",
            "+-------------+-------+\n",
            "|       Closed|1079273|\n",
            "|       Active| 630607|\n",
            "|         Sold|   6527|\n",
            "|     Bad debt|     21|\n",
            "+-------------+-------+\n",
            "\n"
          ]
        },
        {
          "output_type": "execute_result",
          "data": {
            "text/plain": [
              "'Neste caso acima, note que “Bad debt” apresenta volumetria baixa demais,\\n pensando na volumetria da tabela que é da ordem de milhões de linhas,\\n  este domínio não tem representatividade nenhuma sobre o negócio\\n  '"
            ],
            "application/vnd.google.colaboratory.intrinsic+json": {
              "type": "string"
            }
          },
          "metadata": {},
          "execution_count": 17
        }
      ]
    },
    {
      "cell_type": "markdown",
      "source": [
        "# - Indicadores Preditivos"
      ],
      "metadata": {
        "id": "wiJirI6P1-aC"
      }
    },
    {
      "cell_type": "code",
      "source": [
        "\n",
        "df_bureau_01 = spark.sql(\"\"\"\n",
        "            select \n",
        "                 SK_ID_CURR,\n",
        "                 round(avg(DAYS_CREDIT),2) as AVG_DAYS_CREDIT\n",
        "            from \n",
        "              bureau\n",
        "            group by \n",
        "              SK_ID_CURR\n",
        "\"\"\")\n",
        " \n",
        "df_bureau_01.registerTempTable('df_bureau_01')\n",
        " \n",
        "df_bureau_01.show()\n",
        "\n",
        "\"\"\" Criamos uma variável que seja descrita por ser a Média da quantidade de dias \n",
        "antes da aplicação atual que o cliente solicitou crédito do Bureau de Crédito (DAYS_CREDIT)\n",
        "\"\"\""
      ],
      "metadata": {
        "colab": {
          "base_uri": "https://localhost:8080/",
          "height": 504
        },
        "id": "ylUThzQr2Grg",
        "outputId": "e024f72c-d3dc-4b1b-c410-b78b7990608f"
      },
      "execution_count": 20,
      "outputs": [
        {
          "output_type": "stream",
          "name": "stdout",
          "text": [
            "+----------+---------------+\n",
            "|SK_ID_CURR|AVG_DAYS_CREDIT|\n",
            "+----------+---------------+\n",
            "|    341504|         -283.5|\n",
            "|    197603|       -1916.43|\n",
            "|    330299|        -1645.0|\n",
            "|    355377|        -1540.0|\n",
            "|    454739|       -1215.86|\n",
            "|    295286|       -1264.89|\n",
            "|    192082|       -1451.21|\n",
            "|    109608|        -504.33|\n",
            "|    375705|        -896.75|\n",
            "|    380065|        -638.67|\n",
            "|    416191|        -1429.0|\n",
            "|    162260|        -1507.4|\n",
            "|    166160|         -856.0|\n",
            "|    191350|         -151.0|\n",
            "|    258865|         -979.5|\n",
            "|    439807|         -795.2|\n",
            "|    258129|        -434.75|\n",
            "|    133018|       -1261.64|\n",
            "|    338173|       -1318.24|\n",
            "|    338091|        -1022.0|\n",
            "+----------+---------------+\n",
            "only showing top 20 rows\n",
            "\n"
          ]
        },
        {
          "output_type": "execute_result",
          "data": {
            "text/plain": [
              "' Criamos uma variável que seja descrita por ser a Média da quantidade de dias \\nantes da aplicação atual que o cliente solicitou crédito do Bureau de Crédito (DAYS_CREDIT)\\n'"
            ],
            "application/vnd.google.colaboratory.intrinsic+json": {
              "type": "string"
            }
          },
          "metadata": {},
          "execution_count": 20
        }
      ]
    },
    {
      "cell_type": "markdown",
      "source": [
        "## Compondo ABT considerando os indicadores preditivos da tabela Bureau.\n"
      ],
      "metadata": {
        "id": "P0qiv18H5SpH"
      }
    },
    {
      "cell_type": "code",
      "source": [
        "abt_bureau = spark.sql(\"\"\"\n",
        "          Select \n",
        " \n",
        "          a.*,\n",
        "          b.AVG_DAYS_CREDIT,\n",
        "          b.AVG_CRED_ACTV_ACTIVE,\n",
        "          b.AVG_CRED_ACTV_CLOSED,\n",
        "          b.AVG_CRED_ACTV_SOLD,\n",
        "          b.AVG_CRED_ACTV_BADDBT,\n",
        "          b.SUM_DAYS_CREDIT,\n",
        "          b.SUM_CRED_ACTV_ACTIVE,\n",
        "          b.SUM_CRED_ACTV_CLOSED,\n",
        "          b.SUM_CRED_ACTV_SOLD,\n",
        "          b.SUM_CRED_ACTV_BADDBT,\n",
        "          b.MIN_DAYS_CREDIT,\n",
        "          b.MIN_CRED_ACTV_ACTIVE,\n",
        "          b.MIN_CRED_ACTV_CLOSED,\n",
        "          b.MIN_CRED_ACTV_SOLD,\n",
        "          b.MIN_CRED_ACTV_BADDBT\n",
        " \n",
        "          from app_train  as a\n",
        "          left join \n",
        "          df_bureau_01 as b\n",
        "          on\n",
        "          a.SK_ID_CURR = b.SK_ID_CURR\n",
        " \n",
        " \"\"\")\n",
        " \n",
        "abt_bureau.registerTempTable('abt_bureau')\n",
        " \n",
        "abt_bureau.count()"
      ],
      "metadata": {
        "id": "LPt2hlo67UfW"
      },
      "execution_count": null,
      "outputs": []
    }
  ]
}